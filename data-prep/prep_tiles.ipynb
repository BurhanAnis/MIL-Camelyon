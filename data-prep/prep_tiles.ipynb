{
 "cells": [
  {
   "cell_type": "code",
   "execution_count": 21,
   "metadata": {},
   "outputs": [],
   "source": [
    "from utils import get_list_of_paths, load_data, save_data\n",
    "from wsi_prep import get_tissue_mask, get_tiles"
   ]
  },
  {
   "cell_type": "code",
   "execution_count": 22,
   "metadata": {},
   "outputs": [],
   "source": [
    "paths_neg = '/Volumes/BurhanAnisExtDrive/camelyon/camelyon_data/training/negative'\n",
    "paths_pos = '/Volumes/BurhanAnisExtDrive/camelyon/camelyon_data/training/positive/images'\n",
    "paths_test = '/Volumes/BurhanAnisExtDrive/camelyon/camelyon_data/test/images'"
   ]
  },
  {
   "cell_type": "code",
   "execution_count": 23,
   "metadata": {},
   "outputs": [],
   "source": [
    "train_neg = get_list_of_paths(paths_neg)\n",
    "train_pos = get_list_of_paths(paths_pos)\n",
    "test = get_list_of_paths(paths_test)"
   ]
  },
  {
   "cell_type": "code",
   "execution_count": 25,
   "metadata": {},
   "outputs": [
    {
     "name": "stdout",
     "output_type": "stream",
     "text": [
      "n Negative Training Images: 159\n",
      "n Positive Training Images: 111\n",
      "n Test Images: 129\n"
     ]
    }
   ],
   "source": [
    "print('n Negative Training Images:', len(train_neg))\n",
    "print('n Positive Training Images:', len(train_pos))\n",
    "print('n Test Images:', len(test))"
   ]
  },
  {
   "cell_type": "code",
   "execution_count": 12,
   "metadata": {},
   "outputs": [],
   "source": [
    "from tqdm import tqdm\n",
    "def tile_images(slide_paths, level, patch_size_level0):\n",
    "    tile_coords = []\n",
    "    for path in tqdm(slide_paths, desc = 'Processing Tiles'):\n",
    "        tissue_mask = tissue_mask = get_tissue_mask(path, level, plot = False)\n",
    "        tile_coords.append(get_tiles(path, tissue_mask, level, patch_size_level0, plot = False))\n",
    "    return tile_coords"
   ]
  },
  {
   "cell_type": "code",
   "execution_count": 13,
   "metadata": {},
   "outputs": [
    {
     "name": "stderr",
     "output_type": "stream",
     "text": [
      "Processing Tiles: 100%|██████████| 159/159 [02:57<00:00,  1.12s/it]\n",
      "Processing Tiles: 100%|██████████| 111/111 [02:04<00:00,  1.13s/it]\n",
      "Processing Tiles: 100%|██████████| 129/129 [02:12<00:00,  1.03s/it]\n"
     ]
    }
   ],
   "source": [
    "level = 6\n",
    "patch_size = 256\n",
    "tile_coords_neg = tile_images(train_neg, level, patch_size)\n",
    "tile_coords_pos = tile_images(train_pos, level, patch_size)\n",
    "tile_coords_test = tile_images(test, level, patch_size)"
   ]
  },
  {
   "cell_type": "code",
   "execution_count": 14,
   "metadata": {},
   "outputs": [],
   "source": [
    "save_data('tile_coords_neg.pkl', tile_coords_neg)\n",
    "save_data('tile_coords_pos.pkl', tile_coords_pos)\n",
    "save_data('tile_coords_test.pkl', tile_coords_test)"
   ]
  }
 ],
 "metadata": {
  "kernelspec": {
   "display_name": ".venv",
   "language": "python",
   "name": "python3"
  },
  "language_info": {
   "codemirror_mode": {
    "name": "ipython",
    "version": 3
   },
   "file_extension": ".py",
   "mimetype": "text/x-python",
   "name": "python",
   "nbconvert_exporter": "python",
   "pygments_lexer": "ipython3",
   "version": "3.11.9"
  }
 },
 "nbformat": 4,
 "nbformat_minor": 2
}
